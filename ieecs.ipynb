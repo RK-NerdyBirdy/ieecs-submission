{
 "cells": [
  {
   "cell_type": "markdown",
   "id": "de3e4050",
   "metadata": {
    "papermill": {
     "duration": 0.006412,
     "end_time": "2025-03-02T19:12:40.121357",
     "exception": false,
     "start_time": "2025-03-02T19:12:40.114945",
     "status": "completed"
    },
    "tags": []
   },
   "source": [
    "# Importing libraries\n"
   ]
  },
  {
   "cell_type": "markdown",
   "id": "9b827106",
   "metadata": {
    "papermill": {
     "duration": 0.005353,
     "end_time": "2025-03-02T19:12:40.132501",
     "exception": false,
     "start_time": "2025-03-02T19:12:40.127148",
     "status": "completed"
    },
    "tags": []
   },
   "source": [
    "# IEECS Enrollment submission Task\n",
    "# Maneet Gupta 24BBS0101"
   ]
  },
  {
   "cell_type": "code",
   "execution_count": 1,
   "id": "5cb34a90",
   "metadata": {
    "execution": {
     "iopub.execute_input": "2025-03-02T19:12:40.144619Z",
     "iopub.status.busy": "2025-03-02T19:12:40.144319Z",
     "iopub.status.idle": "2025-03-02T19:12:42.232870Z",
     "shell.execute_reply": "2025-03-02T19:12:42.232176Z"
    },
    "papermill": {
     "duration": 2.096397,
     "end_time": "2025-03-02T19:12:42.234458",
     "exception": false,
     "start_time": "2025-03-02T19:12:40.138061",
     "status": "completed"
    },
    "tags": []
   },
   "outputs": [],
   "source": [
    "import pandas as pd\n",
    "import numpy as np\n",
    "import matplotlib.pyplot as plt\n",
    "import seaborn as sns\n",
    "import struct\n",
    "from PIL import Image\n"
   ]
  },
  {
   "cell_type": "markdown",
   "id": "bba237d6",
   "metadata": {
    "papermill": {
     "duration": 0.005504,
     "end_time": "2025-03-02T19:12:42.246117",
     "exception": false,
     "start_time": "2025-03-02T19:12:42.240613",
     "status": "completed"
    },
    "tags": []
   },
   "source": [
    "# Part 1: Performing EDA"
   ]
  },
  {
   "cell_type": "code",
   "execution_count": 2,
   "id": "3d60190b",
   "metadata": {
    "execution": {
     "iopub.execute_input": "2025-03-02T19:12:42.258545Z",
     "iopub.status.busy": "2025-03-02T19:12:42.258151Z",
     "iopub.status.idle": "2025-03-02T19:12:49.288012Z",
     "shell.execute_reply": "2025-03-02T19:12:49.286836Z"
    },
    "papermill": {
     "duration": 7.037677,
     "end_time": "2025-03-02T19:12:49.289542",
     "exception": false,
     "start_time": "2025-03-02T19:12:42.251865",
     "status": "completed"
    },
    "tags": []
   },
   "outputs": [
    {
     "name": "stdout",
     "output_type": "stream",
     "text": [
      "<class 'pandas.core.frame.DataFrame'>\n",
      "RangeIndex: 60000 entries, 0 to 59999\n",
      "Columns: 785 entries, label to pixel784\n",
      "dtypes: int64(785)\n",
      "memory usage: 359.3 MB\n",
      "None\n",
      "              label        pixel1        pixel2        pixel3        pixel4  \\\n",
      "count  60000.000000  60000.000000  60000.000000  60000.000000  60000.000000   \n",
      "mean       4.500000      0.000900      0.006150      0.035333      0.101933   \n",
      "std        2.872305      0.094689      0.271011      1.222324      2.452871   \n",
      "min        0.000000      0.000000      0.000000      0.000000      0.000000   \n",
      "25%        2.000000      0.000000      0.000000      0.000000      0.000000   \n",
      "50%        4.500000      0.000000      0.000000      0.000000      0.000000   \n",
      "75%        7.000000      0.000000      0.000000      0.000000      0.000000   \n",
      "max        9.000000     16.000000     36.000000    226.000000    164.000000   \n",
      "\n",
      "             pixel5        pixel6        pixel7        pixel8        pixel9  \\\n",
      "count  60000.000000  60000.000000  60000.000000  60000.000000  60000.000000   \n",
      "mean       0.247967      0.411467      0.805767      2.198283      5.682000   \n",
      "std        4.306912      5.836188      8.215169     14.093378     23.819481   \n",
      "min        0.000000      0.000000      0.000000      0.000000      0.000000   \n",
      "25%        0.000000      0.000000      0.000000      0.000000      0.000000   \n",
      "50%        0.000000      0.000000      0.000000      0.000000      0.000000   \n",
      "75%        0.000000      0.000000      0.000000      0.000000      0.000000   \n",
      "max      227.000000    230.000000    224.000000    255.000000    254.000000   \n",
      "\n",
      "       ...      pixel775      pixel776      pixel777      pixel778  \\\n",
      "count  ...  60000.000000  60000.000000  60000.000000  60000.000000   \n",
      "mean   ...     34.625400     23.300683     16.588267     17.869433   \n",
      "std    ...     57.545242     48.854427     41.979611     43.966032   \n",
      "min    ...      0.000000      0.000000      0.000000      0.000000   \n",
      "25%    ...      0.000000      0.000000      0.000000      0.000000   \n",
      "50%    ...      0.000000      0.000000      0.000000      0.000000   \n",
      "75%    ...     58.000000      9.000000      0.000000      0.000000   \n",
      "max    ...    255.000000    255.000000    255.000000    255.000000   \n",
      "\n",
      "           pixel779      pixel780      pixel781      pixel782      pixel783  \\\n",
      "count  60000.000000  60000.000000  60000.000000  60000.000000  60000.000000   \n",
      "mean      22.814817     17.911483      8.520633      2.753300      0.855517   \n",
      "std       51.830477     45.149388     29.614859     17.397652      9.356960   \n",
      "min        0.000000      0.000000      0.000000      0.000000      0.000000   \n",
      "25%        0.000000      0.000000      0.000000      0.000000      0.000000   \n",
      "50%        0.000000      0.000000      0.000000      0.000000      0.000000   \n",
      "75%        0.000000      0.000000      0.000000      0.000000      0.000000   \n",
      "max      255.000000    255.000000    255.000000    255.000000    255.000000   \n",
      "\n",
      "          pixel784  \n",
      "count  60000.00000  \n",
      "mean       0.07025  \n",
      "std        2.12587  \n",
      "min        0.00000  \n",
      "25%        0.00000  \n",
      "50%        0.00000  \n",
      "75%        0.00000  \n",
      "max      170.00000  \n",
      "\n",
      "[8 rows x 785 columns]\n",
      "label       0\n",
      "pixel1      0\n",
      "pixel2      0\n",
      "pixel3      0\n",
      "pixel4      0\n",
      "           ..\n",
      "pixel780    0\n",
      "pixel781    0\n",
      "pixel782    0\n",
      "pixel783    0\n",
      "pixel784    0\n",
      "Length: 785, dtype: int64\n",
      "   label  pixel1  pixel2  pixel3  pixel4  pixel5  pixel6  pixel7  pixel8  \\\n",
      "0      2       0       0       0       0       0       0       0       0   \n",
      "1      9       0       0       0       0       0       0       0       0   \n",
      "2      6       0       0       0       0       0       0       0       5   \n",
      "3      0       0       0       0       1       2       0       0       0   \n",
      "4      3       0       0       0       0       0       0       0       0   \n",
      "\n",
      "   pixel9  ...  pixel775  pixel776  pixel777  pixel778  pixel779  pixel780  \\\n",
      "0       0  ...         0         0         0         0         0         0   \n",
      "1       0  ...         0         0         0         0         0         0   \n",
      "2       0  ...         0         0         0        30        43         0   \n",
      "3       0  ...         3         0         0         0         0         1   \n",
      "4       0  ...         0         0         0         0         0         0   \n",
      "\n",
      "   pixel781  pixel782  pixel783  pixel784  \n",
      "0         0         0         0         0  \n",
      "1         0         0         0         0  \n",
      "2         0         0         0         0  \n",
      "3         0         0         0         0  \n",
      "4         0         0         0         0  \n",
      "\n",
      "[5 rows x 785 columns]\n"
     ]
    }
   ],
   "source": [
    "df = pd.read_csv(\"/kaggle/input/ieeecs/dataset_aiml_task/data.csv\")\n",
    "\n",
    "# Basic Info\n",
    "print(df.info())\n",
    "print(df.describe())\n",
    "\n",
    "# Check Missing Values\n",
    "print(df.isnull().sum())\n",
    "\n",
    "# Display First Few Rows\n",
    "print(df.head())\n"
   ]
  },
  {
   "cell_type": "markdown",
   "id": "cb725f1c",
   "metadata": {
    "papermill": {
     "duration": 0.006185,
     "end_time": "2025-03-02T19:12:49.301955",
     "exception": false,
     "start_time": "2025-03-02T19:12:49.295770",
     "status": "completed"
    },
    "tags": []
   },
   "source": [
    "### Just a small remark: soooo these are pixel values for images... hmm\n",
    "\n",
    "#### so there are no null value, i.e. the data is pretty much cleaned up and nan values are ommitted. all the values are between 0-255, i.e. standard rgb values as expected"
   ]
  },
  {
   "cell_type": "markdown",
   "id": "004bcb83",
   "metadata": {
    "papermill": {
     "duration": 0.005526,
     "end_time": "2025-03-02T19:12:49.313719",
     "exception": false,
     "start_time": "2025-03-02T19:12:49.308193",
     "status": "completed"
    },
    "tags": []
   },
   "source": [
    "## Proceeding forward with loading images "
   ]
  },
  {
   "cell_type": "code",
   "execution_count": 3,
   "id": "970d9de0",
   "metadata": {
    "execution": {
     "iopub.execute_input": "2025-03-02T19:12:49.326219Z",
     "iopub.status.busy": "2025-03-02T19:12:49.325949Z",
     "iopub.status.idle": "2025-03-02T19:12:49.960230Z",
     "shell.execute_reply": "2025-03-02T19:12:49.959449Z"
    },
    "papermill": {
     "duration": 0.642115,
     "end_time": "2025-03-02T19:12:49.961699",
     "exception": false,
     "start_time": "2025-03-02T19:12:49.319584",
     "status": "completed"
    },
    "tags": []
   },
   "outputs": [
    {
     "name": "stdout",
     "output_type": "stream",
     "text": [
      "Loaded 60000 images of size 28x28\n"
     ]
    },
    {
     "data": {
      "image/png": "[encoded data removed]",
      "text/plain": [
       "<Figure size 1000x500 with 10 Axes>"
      ]
     },
     "metadata": {},
     "output_type": "display_data"
    }
   ],
   "source": [
    "def load_idx_images(filename):\n",
    "    with open(filename, 'rb') as f:\n",
    "        _, num, rows, cols = struct.unpack(\">IIII\", f.read(16))\n",
    "        images = np.frombuffer(f.read(), dtype=np.uint8).reshape(num, rows, cols)\n",
    "    return images\n",
    "\n",
    "images = load_idx_images(\"/kaggle/input/ieeecs/dataset_aiml_task/images-idx3-ubyte\")\n",
    "\n",
    "# Check Shape\n",
    "print(f\"Loaded {images.shape[0]} images of size {images.shape[1]}x{images.shape[2]}\")\n",
    "\n",
    "# Display Sample Images\n",
    "plt.figure(figsize=(10, 5))\n",
    "for i in range(10):\n",
    "    plt.subplot(2, 5, i+1)\n",
    "    plt.imshow(images[i], cmap='gray')\n",
    "    plt.axis('off')\n",
    "plt.show()\n"
   ]
  },
  {
   "cell_type": "markdown",
   "id": "0bf86a5f",
   "metadata": {
    "papermill": {
     "duration": 0.006069,
     "end_time": "2025-03-02T19:12:49.974538",
     "exception": false,
     "start_time": "2025-03-02T19:12:49.968469",
     "status": "completed"
    },
    "tags": []
   },
   "source": [
    "# loading lables and getting label distribution to see how many datapoints are there for each label\n"
   ]
  },
  {
   "cell_type": "code",
   "execution_count": 4,
   "id": "afe109c8",
   "metadata": {
    "execution": {
     "iopub.execute_input": "2025-03-02T19:12:49.987782Z",
     "iopub.status.busy": "2025-03-02T19:12:49.987558Z",
     "iopub.status.idle": "2025-03-02T19:12:50.178871Z",
     "shell.execute_reply": "2025-03-02T19:12:50.177998Z"
    },
    "papermill": {
     "duration": 0.199669,
     "end_time": "2025-03-02T19:12:50.180475",
     "exception": false,
     "start_time": "2025-03-02T19:12:49.980806",
     "status": "completed"
    },
    "tags": []
   },
   "outputs": [
    {
     "name": "stdout",
     "output_type": "stream",
     "text": [
      "Loaded 60000 labels\n",
      "Unique Labels: [0 1 2 3 4 5 6 7 8 9]\n"
     ]
    },
    {
     "data": {
      "image/png": "[encoded data removed]",
      "text/plain": [
       "<Figure size 800x500 with 1 Axes>"
      ]
     },
     "metadata": {},
     "output_type": "display_data"
    }
   ],
   "source": [
    "def load_idx_labels(filename):\n",
    "    with open(filename, 'rb') as f:\n",
    "        _, num = struct.unpack(\">II\", f.read(8))\n",
    "        labels = np.frombuffer(f.read(), dtype=np.uint8)\n",
    "    return labels\n",
    "\n",
    "labels = load_idx_labels(\"/kaggle/input/ieeecs/dataset_aiml_task/labels-idx1-ubyte\")\n",
    "\n",
    "# Check Labels\n",
    "print(f\"Loaded {len(labels)} labels\")\n",
    "print(f\"Unique Labels: {np.unique(labels)}\")\n",
    "\n",
    "# Bar Plot of Label Distribution\n",
    "plt.figure(figsize=(8, 5))\n",
    "sns.countplot(x=labels)\n",
    "plt.xlabel(\"Class Label\")\n",
    "plt.ylabel(\"Count\")\n",
    "plt.title(\"Label Distribution\")\n",
    "plt.show()\n"
   ]
  },
  {
   "cell_type": "markdown",
   "id": "3c9cb479",
   "metadata": {
    "papermill": {
     "duration": 0.006883,
     "end_time": "2025-03-02T19:12:50.194409",
     "exception": false,
     "start_time": "2025-03-02T19:12:50.187526",
     "status": "completed"
    },
    "tags": []
   },
   "source": [
    "### According to data there are 10 classes to identify from. each class having 6000 samples. as per the images given below it seems it is a clothing identifier ?? \n"
   ]
  },
  {
   "cell_type": "code",
   "execution_count": 5,
   "id": "1f7792c1",
   "metadata": {
    "execution": {
     "iopub.execute_input": "2025-03-02T19:12:50.208934Z",
     "iopub.status.busy": "2025-03-02T19:12:50.208693Z",
     "iopub.status.idle": "2025-03-02T19:12:50.648024Z",
     "shell.execute_reply": "2025-03-02T19:12:50.647157Z"
    },
    "papermill": {
     "duration": 0.447905,
     "end_time": "2025-03-02T19:12:50.649268",
     "exception": false,
     "start_time": "2025-03-02T19:12:50.201363",
     "status": "completed"
    },
    "tags": []
   },
   "outputs": [
    {
     "data": {
      "image/png": "[encoded data removed]",
      "text/plain": [
       "<Figure size 1000x500 with 10 Axes>"
      ]
     },
     "metadata": {},
     "output_type": "display_data"
    }
   ],
   "source": [
    "plt.figure(figsize=(10, 5))\n",
    "for i in range(10):\n",
    "    plt.subplot(2, 5, i+1)\n",
    "    plt.imshow(images[i], cmap='gray')\n",
    "    plt.title(f\"Label: {labels[i]}\")\n",
    "    plt.axis('off')\n",
    "plt.show()\n"
   ]
  },
  {
   "cell_type": "markdown",
   "id": "e9118016",
   "metadata": {
    "papermill": {
     "duration": 0.00706,
     "end_time": "2025-03-02T19:12:50.664049",
     "exception": false,
     "start_time": "2025-03-02T19:12:50.656989",
     "status": "completed"
    },
    "tags": []
   },
   "source": [
    "# Part 2 Logistic Regression \n",
    "## Logistic Regression is a statistical model used for binary and multi-class classification(Which is used here for classification of clothings). It predicts probabilities using the sigmoid function (The weird S shaped graph thingy). We are not using Linear regression because of categorical nature of data as seen in EDA. \n",
    "\n",
    "btw linear regression is used for continuous outputs ( like predicting housing prices ) "
   ]
  },
  {
   "cell_type": "code",
   "execution_count": 6,
   "id": "12656022",
   "metadata": {
    "execution": {
     "iopub.execute_input": "2025-03-02T19:12:50.679414Z",
     "iopub.status.busy": "2025-03-02T19:12:50.679139Z",
     "iopub.status.idle": "2025-03-02T19:12:55.029531Z",
     "shell.execute_reply": "2025-03-02T19:12:55.028010Z"
    },
    "papermill": {
     "duration": 4.360485,
     "end_time": "2025-03-02T19:12:55.031748",
     "exception": false,
     "start_time": "2025-03-02T19:12:50.671263",
     "status": "completed"
    },
    "tags": []
   },
   "outputs": [],
   "source": [
    "!pip install shap --quiet"
   ]
  },
  {
   "cell_type": "code",
   "execution_count": 7,
   "id": "22eecd02",
   "metadata": {
    "execution": {
     "iopub.execute_input": "2025-03-02T19:12:55.049085Z",
     "iopub.status.busy": "2025-03-02T19:12:55.048806Z",
     "iopub.status.idle": "2025-03-02T19:13:01.331125Z",
     "shell.execute_reply": "2025-03-02T19:13:01.330073Z"
    },
    "papermill": {
     "duration": 6.29198,
     "end_time": "2025-03-02T19:13:01.332557",
     "exception": false,
     "start_time": "2025-03-02T19:12:55.040577",
     "status": "completed"
    },
    "tags": []
   },
   "outputs": [
    {
     "name": "stdout",
     "output_type": "stream",
     "text": [
      "📷 Loaded 60000 images of size 28x28\n",
      "🏷 Loaded 60000 labels\n"
     ]
    }
   ],
   "source": [
    "import numpy as np\n",
    "import pandas as pd\n",
    "import struct\n",
    "import matplotlib.pyplot as plt\n",
    "import seaborn as sns\n",
    "from sklearn.linear_model import LogisticRegression\n",
    "from sklearn.model_selection import train_test_split\n",
    "from sklearn.metrics import accuracy_score, classification_report, confusion_matrix\n",
    "import shap\n",
    "\n",
    "\n",
    "#redefining load_idx_images to return rows and cols too (Preprocessing)\n",
    "\n",
    "def load_idx_images(filename):\n",
    "    with open(filename, 'rb') as f:\n",
    "        _, num, rows, cols = struct.unpack(\">IIII\", f.read(16))\n",
    "        images = np.frombuffer(f.read(), dtype=np.uint8).reshape(num, rows * cols)\n",
    "    return images, rows, cols\n",
    "\n",
    "\n",
    "\n",
    "# Loading dataset\n",
    "X, img_rows, img_cols = load_idx_images(\"/kaggle/input/ieeecs/dataset_aiml_task/images-idx3-ubyte\")\n",
    "y = load_idx_labels(\"/kaggle/input/ieeecs/dataset_aiml_task/labels-idx1-ubyte\")\n",
    "\n",
    "print(f\"📷 Loaded {X.shape[0]} images of size {img_rows}x{img_cols}\")\n",
    "print(f\"🏷 Loaded {y.shape[0]} labels\")\n",
    "\n",
    "# Batch normalization\n",
    "X = X / 255.0  # Normalize pixel values to range [0,1] (its better to work with normalized ranges :D)\n",
    "\n"
   ]
  },
  {
   "cell_type": "markdown",
   "id": "ed45ab97",
   "metadata": {
    "papermill": {
     "duration": 0.007434,
     "end_time": "2025-03-02T19:13:01.348487",
     "exception": false,
     "start_time": "2025-03-02T19:13:01.341053",
     "status": "completed"
    },
    "tags": []
   },
   "source": [
    "# Splitting the data \n",
    "\n",
    "Why did the dataset refuse to split evenly? Ans. It had attachment issues! "
   ]
  },
  {
   "cell_type": "code",
   "execution_count": 8,
   "id": "b4211cf2",
   "metadata": {
    "execution": {
     "iopub.execute_input": "2025-03-02T19:13:01.363951Z",
     "iopub.status.busy": "2025-03-02T19:13:01.363485Z",
     "iopub.status.idle": "2025-03-02T19:13:01.526937Z",
     "shell.execute_reply": "2025-03-02T19:13:01.526029Z"
    },
    "papermill": {
     "duration": 0.172592,
     "end_time": "2025-03-02T19:13:01.528282",
     "exception": false,
     "start_time": "2025-03-02T19:13:01.355690",
     "status": "completed"
    },
    "tags": []
   },
   "outputs": [
    {
     "name": "stdout",
     "output_type": "stream",
     "text": [
      "✅ Training set size: 42000\n",
      "✅ Validation set size: 9000\n",
      "✅ Testing set size: 9000\n"
     ]
    }
   ],
   "source": [
    "from sklearn.model_selection import train_test_split\n",
    "\n",
    "# 70% Train, 15% Validation, 15% Test (Some legends say that the best you split, the best you did)\n",
    "X_train, X_temp, y_train, y_temp = train_test_split(X, y, test_size=0.3, random_state=42)\n",
    "X_val, X_test, y_val, y_test = train_test_split(X_temp, y_temp, test_size=0.5, random_state=42)\n",
    "\n",
    "print(f\"✅ Training set size: {X_train.shape[0]}\")\n",
    "print(f\"✅ Validation set size: {X_val.shape[0]}\")\n",
    "print(f\"✅ Testing set size: {X_test.shape[0]}\")\n"
   ]
  },
  {
   "cell_type": "markdown",
   "id": "8f184650",
   "metadata": {
    "papermill": {
     "duration": 0.007073,
     "end_time": "2025-03-02T19:13:01.542986",
     "exception": false,
     "start_time": "2025-03-02T19:13:01.535913",
     "status": "completed"
    },
    "tags": []
   },
   "source": [
    "### Using Limited-memory Broyden–Fletcher–Goldfarb–Shanno (LBFGS) solver to optimize weights for LR model"
   ]
  },
  {
   "cell_type": "code",
   "execution_count": 9,
   "id": "cc905d32",
   "metadata": {
    "execution": {
     "iopub.execute_input": "2025-03-02T19:13:01.557986Z",
     "iopub.status.busy": "2025-03-02T19:13:01.557759Z",
     "iopub.status.idle": "2025-03-02T19:14:28.657227Z",
     "shell.execute_reply": "2025-03-02T19:14:28.656436Z"
    },
    "papermill": {
     "duration": 87.108863,
     "end_time": "2025-03-02T19:14:28.659003",
     "exception": false,
     "start_time": "2025-03-02T19:13:01.550140",
     "status": "completed"
    },
    "tags": []
   },
   "outputs": [],
   "source": [
    "log_reg = LogisticRegression(max_iter=2000, solver='lbfgs', verbose=1)  # Enable tracking\n",
    "log_reg.fit(X_train, y_train)\n",
    "\n",
    "# Predictions\n",
    "y_train_pred = log_reg.predict(X_train)\n",
    "y_val_pred = log_reg.predict(X_val)\n",
    "y_test_pred = log_reg.predict(X_test)\n"
   ]
  },
  {
   "cell_type": "code",
   "execution_count": 10,
   "id": "54bf571f",
   "metadata": {
    "execution": {
     "iopub.execute_input": "2025-03-02T19:14:28.675587Z",
     "iopub.status.busy": "2025-03-02T19:14:28.675296Z",
     "iopub.status.idle": "2025-03-02T19:14:29.086192Z",
     "shell.execute_reply": "2025-03-02T19:14:29.085353Z"
    },
    "papermill": {
     "duration": 0.420653,
     "end_time": "2025-03-02T19:14:29.087888",
     "exception": false,
     "start_time": "2025-03-02T19:14:28.667235",
     "status": "completed"
    },
    "tags": []
   },
   "outputs": [
    {
     "name": "stdout",
     "output_type": "stream",
     "text": [
      "✅ Train Accuracy: 0.8855\n",
      "✅ Validation Accuracy: 0.8537\n",
      "✅ Test Accuracy: 0.8496\n",
      "\n",
      "Classification Report (Val Set):\n",
      "              precision    recall  f1-score   support\n",
      "\n",
      "           0       0.77      0.82      0.80       856\n",
      "           1       0.98      0.96      0.97       960\n",
      "           2       0.76      0.76      0.76       895\n",
      "           3       0.85      0.88      0.86       897\n",
      "           4       0.77      0.80      0.78       916\n",
      "           5       0.93      0.94      0.94       888\n",
      "           6       0.63      0.57      0.60       876\n",
      "           7       0.91      0.93      0.92       904\n",
      "           8       0.95      0.94      0.94       879\n",
      "           9       0.95      0.94      0.95       929\n",
      "\n",
      "    accuracy                           0.85      9000\n",
      "   macro avg       0.85      0.85      0.85      9000\n",
      "weighted avg       0.85      0.85      0.85      9000\n",
      "\n"
     ]
    },
    {
     "data": {
      "image/png": "[encoded data removed]",
      "text/plain": [
       "<Figure size 800x600 with 2 Axes>"
      ]
     },
     "metadata": {},
     "output_type": "display_data"
    }
   ],
   "source": [
    "from sklearn.metrics import accuracy_score, classification_report, confusion_matrix\n",
    "\n",
    "# Accuracy\n",
    "train_acc = accuracy_score(y_train, y_train_pred)\n",
    "val_acc = accuracy_score(y_val, y_val_pred)\n",
    "test_acc = accuracy_score(y_test, y_test_pred)\n",
    "\n",
    "print(f\"✅ Train Accuracy: {train_acc:.4f}\")\n",
    "print(f\"✅ Validation Accuracy: {val_acc:.4f}\")\n",
    "print(f\"✅ Test Accuracy: {test_acc:.4f}\")\n",
    "\n",
    "# Precision, Recall, F1-Score\n",
    "print(\"\\nClassification Report (Val Set):\")\n",
    "print(classification_report(y_val, y_val_pred))\n",
    "\n",
    "# Confusion Matrix\n",
    "cm = confusion_matrix(y_val, y_val_pred)\n",
    "plt.figure(figsize=(8,6))\n",
    "sns.heatmap(cm, annot=True, fmt='d', cmap='Blues')\n",
    "plt.xlabel(\"Predicted Label\")\n",
    "plt.ylabel(\"True Label\")\n",
    "plt.title(\"Confusion Matrix (Val Set)\")\n",
    "plt.show()\n"
   ]
  },
  {
   "cell_type": "markdown",
   "id": "50009676",
   "metadata": {
    "papermill": {
     "duration": 0.008106,
     "end_time": "2025-03-02T19:14:29.105003",
     "exception": false,
     "start_time": "2025-03-02T19:14:29.096897",
     "status": "completed"
    },
    "tags": []
   },
   "source": [
    "## From the analysis above we can conclude\n",
    "1. Class 1 is best classified by the model\n",
    "2. class 6 is least classfied and confused by model\n",
    "3. the model achieves a avg score of 85 % which is acceptable for linear model\n",
    "\n",
    "For further observation, lets check the plot of loss curves\n"
   ]
  },
  {
   "cell_type": "code",
   "execution_count": 11,
   "id": "b6bf9350",
   "metadata": {
    "execution": {
     "iopub.execute_input": "2025-03-02T19:14:29.122209Z",
     "iopub.status.busy": "2025-03-02T19:14:29.121972Z",
     "iopub.status.idle": "2025-03-02T19:14:29.670391Z",
     "shell.execute_reply": "2025-03-02T19:14:29.669542Z"
    },
    "papermill": {
     "duration": 0.558658,
     "end_time": "2025-03-02T19:14:29.671800",
     "exception": false,
     "start_time": "2025-03-02T19:14:29.113142",
     "status": "completed"
    },
    "tags": []
   },
   "outputs": [
    {
     "data": {
      "image/png": "[encoded data removed]",
      "text/plain": [
       "<Figure size 1000x500 with 2 Axes>"
      ]
     },
     "metadata": {},
     "output_type": "display_data"
    }
   ],
   "source": [
    "import numpy as np\n",
    "import matplotlib.pyplot as plt\n",
    "\n",
    "# Loss values (since Logistic Regression doesn’t have epochs, we approximate using log-loss)\n",
    "from sklearn.metrics import log_loss\n",
    "\n",
    "train_loss = log_loss(y_train, log_reg.predict_proba(X_train))\n",
    "val_loss = log_loss(y_val, log_reg.predict_proba(X_val))\n",
    "test_loss = log_loss(y_test, log_reg.predict_proba(X_test))\n",
    "\n",
    "epochs = np.arange(1, 2)  # Logistic Regression doesn't use multiple epochs\n",
    "\n",
    "plt.figure(figsize=(10,5))\n",
    "\n",
    "# Loss Plot\n",
    "plt.subplot(1, 2, 1)\n",
    "plt.plot(epochs, [train_loss], label=\"Train Loss\", marker='o', color='blue')\n",
    "plt.plot(epochs, [val_loss], label=\"Validation Loss\", marker='o', color='orange')\n",
    "plt.plot(epochs, [test_loss], label=\"Test Loss\", marker='o', color='red')\n",
    "plt.xlabel(\"Iterations (Single Step in Logistic Regression)\")\n",
    "plt.ylabel(\"Log Loss\")\n",
    "plt.title(\"Training, Validation & Test Loss\")\n",
    "plt.legend()\n",
    "\n",
    "# Accuracy Plot\n",
    "plt.subplot(1, 2, 2)\n",
    "plt.bar([\"Train Accuracy\", \"Validation Accuracy\", \"Test Accuracy\"], [train_acc, val_acc, test_acc], color=['blue', 'orange', 'red'])\n",
    "plt.ylim(0, 1)\n",
    "plt.ylabel(\"Accuracy\")\n",
    "plt.title(\"Train, Validation & Test Accuracy\")\n",
    "\n",
    "plt.show()\n"
   ]
  },
  {
   "cell_type": "markdown",
   "id": "72d0ada9",
   "metadata": {
    "papermill": {
     "duration": 0.009213,
     "end_time": "2025-03-02T19:14:29.690849",
     "exception": false,
     "start_time": "2025-03-02T19:14:29.681636",
     "status": "completed"
    },
    "tags": []
   },
   "source": [
    "## According to Curves and Bar graphs we can conculde that model has achieved a good generalization of the data above as train loss is well below the train and val loss. \n",
    "\n",
    "## Also the accuracy is pretty much same and hence we can conclude that model is able to differentiate between the classes for unseen images too. "
   ]
  },
  {
   "cell_type": "markdown",
   "id": "27c31d21",
   "metadata": {
    "papermill": {
     "duration": 0.009022,
     "end_time": "2025-03-02T19:14:29.708809",
     "exception": false,
     "start_time": "2025-03-02T19:14:29.699787",
     "status": "completed"
    },
    "tags": []
   },
   "source": [
    "# Conclusion: Model converged properly as intended"
   ]
  },
  {
   "cell_type": "code",
   "execution_count": 12,
   "id": "7cd895a0",
   "metadata": {
    "execution": {
     "iopub.execute_input": "2025-03-02T19:14:29.727863Z",
     "iopub.status.busy": "2025-03-02T19:14:29.727613Z",
     "iopub.status.idle": "2025-03-02T19:14:29.761359Z",
     "shell.execute_reply": "2025-03-02T19:14:29.760282Z"
    },
    "papermill": {
     "duration": 0.044698,
     "end_time": "2025-03-02T19:14:29.762586",
     "exception": true,
     "start_time": "2025-03-02T19:14:29.717888",
     "status": "failed"
    },
    "tags": []
   },
   "outputs": [
    {
     "ename": "NameError",
     "evalue": "name 'shap_values' is not defined",
     "output_type": "error",
     "traceback": [
      "\u001b[0;31m---------------------------------------------------------------------------\u001b[0m",
      "\u001b[0;31mNameError\u001b[0m                                 Traceback (most recent call last)",
      "\u001b[0;32m<ipython-input-12-c23d7c1cbb84>\u001b[0m in \u001b[0;36m<cell line: 1>\u001b[0;34m()\u001b[0m\n\u001b[0;32m----> 1\u001b[0;31m \u001b[0mshap_values_array\u001b[0m \u001b[0;34m=\u001b[0m \u001b[0mshap_values\u001b[0m\u001b[0;34m.\u001b[0m\u001b[0mvalues\u001b[0m \u001b[0;32mif\u001b[0m \u001b[0mhasattr\u001b[0m\u001b[0;34m(\u001b[0m\u001b[0mshap_values\u001b[0m\u001b[0;34m,\u001b[0m \u001b[0;34m'values'\u001b[0m\u001b[0;34m)\u001b[0m \u001b[0;32melse\u001b[0m \u001b[0mshap_values\u001b[0m\u001b[0;34m\u001b[0m\u001b[0;34m\u001b[0m\u001b[0m\n\u001b[0m\u001b[1;32m      2\u001b[0m \u001b[0mnum_samples\u001b[0m \u001b[0;34m=\u001b[0m \u001b[0mshap_values_array\u001b[0m\u001b[0;34m.\u001b[0m\u001b[0mshape\u001b[0m\u001b[0;34m[\u001b[0m\u001b[0;36m0\u001b[0m\u001b[0;34m]\u001b[0m\u001b[0;34m\u001b[0m\u001b[0;34m\u001b[0m\u001b[0m\n\u001b[1;32m      3\u001b[0m \u001b[0mX_test_df\u001b[0m \u001b[0;34m=\u001b[0m \u001b[0mpd\u001b[0m\u001b[0;34m.\u001b[0m\u001b[0mDataFrame\u001b[0m\u001b[0;34m(\u001b[0m\u001b[0mX_test\u001b[0m\u001b[0;34m[\u001b[0m\u001b[0;34m:\u001b[0m\u001b[0mnum_samples\u001b[0m\u001b[0;34m]\u001b[0m\u001b[0;34m,\u001b[0m \u001b[0mcolumns\u001b[0m\u001b[0;34m=\u001b[0m\u001b[0;34m[\u001b[0m\u001b[0;34mf\"Pixel {i}\"\u001b[0m \u001b[0;32mfor\u001b[0m \u001b[0mi\u001b[0m \u001b[0;32min\u001b[0m \u001b[0mrange\u001b[0m\u001b[0;34m(\u001b[0m\u001b[0mX_test\u001b[0m\u001b[0;34m.\u001b[0m\u001b[0mshape\u001b[0m\u001b[0;34m[\u001b[0m\u001b[0;36m1\u001b[0m\u001b[0;34m]\u001b[0m\u001b[0;34m)\u001b[0m\u001b[0;34m]\u001b[0m\u001b[0;34m)\u001b[0m\u001b[0;34m\u001b[0m\u001b[0;34m\u001b[0m\u001b[0m\n\u001b[1;32m      4\u001b[0m \u001b[0mshap_values_mean\u001b[0m \u001b[0;34m=\u001b[0m \u001b[0mnp\u001b[0m\u001b[0;34m.\u001b[0m\u001b[0mmean\u001b[0m\u001b[0;34m(\u001b[0m\u001b[0mnp\u001b[0m\u001b[0;34m.\u001b[0m\u001b[0mabs\u001b[0m\u001b[0;34m(\u001b[0m\u001b[0mshap_values_array\u001b[0m\u001b[0;34m)\u001b[0m\u001b[0;34m,\u001b[0m \u001b[0maxis\u001b[0m\u001b[0;34m=\u001b[0m\u001b[0;36m2\u001b[0m\u001b[0;34m)\u001b[0m  \u001b[0;31m# Shape (9000, 784)\u001b[0m\u001b[0;34m\u001b[0m\u001b[0;34m\u001b[0m\u001b[0m\n\u001b[1;32m      5\u001b[0m \u001b[0mshap_df\u001b[0m \u001b[0;34m=\u001b[0m \u001b[0mpd\u001b[0m\u001b[0;34m.\u001b[0m\u001b[0mDataFrame\u001b[0m\u001b[0;34m(\u001b[0m\u001b[0mshap_values_mean\u001b[0m\u001b[0;34m,\u001b[0m \u001b[0mcolumns\u001b[0m\u001b[0;34m=\u001b[0m\u001b[0;34m[\u001b[0m\u001b[0;34mf\"Feature {i}\"\u001b[0m \u001b[0;32mfor\u001b[0m \u001b[0mi\u001b[0m \u001b[0;32min\u001b[0m \u001b[0mrange\u001b[0m\u001b[0;34m(\u001b[0m\u001b[0mX_test\u001b[0m\u001b[0;34m.\u001b[0m\u001b[0mshape\u001b[0m\u001b[0;34m[\u001b[0m\u001b[0;36m1\u001b[0m\u001b[0;34m]\u001b[0m\u001b[0;34m)\u001b[0m\u001b[0;34m]\u001b[0m\u001b[0;34m)\u001b[0m\u001b[0;34m\u001b[0m\u001b[0;34m\u001b[0m\u001b[0m\n",
      "\u001b[0;31mNameError\u001b[0m: name 'shap_values' is not defined"
     ]
    }
   ],
   "source": [
    "shap_values_array = shap_values.values if hasattr(shap_values, 'values') else shap_values\n",
    "num_samples = shap_values_array.shape[0]\n",
    "X_test_df = pd.DataFrame(X_test[:num_samples], columns=[f\"Pixel {i}\" for i in range(X_test.shape[1])])\n",
    "shap_values_mean = np.mean(np.abs(shap_values_array), axis=2)  # Shape (9000, 784)\n",
    "shap_df = pd.DataFrame(shap_values_mean, columns=[f\"Feature {i}\" for i in range(X_test.shape[1])])\n",
    "shap.summary_plot(shap_values_mean, X_test_df)\n"
   ]
  },
  {
   "cell_type": "markdown",
   "id": "569ca6e2",
   "metadata": {
    "papermill": {
     "duration": null,
     "end_time": null,
     "exception": null,
     "start_time": null,
     "status": "pending"
    },
    "tags": []
   },
   "source": [
    "# Part-3 CNN Model\n",
    "## CNNs are deep learning models designed for image processing, using convolutional layers to detect patterns like edges and textures. They excel at tasks like image classification and object detection by learning spatial hierarchies of features. I am expecting a much more accuracy with this model as data is in form of images"
   ]
  },
  {
   "cell_type": "code",
   "execution_count": null,
   "id": "d743ae52",
   "metadata": {
    "execution": {
     "iopub.execute_input": "2025-03-02T18:49:52.706554Z",
     "iopub.status.busy": "2025-03-02T18:49:52.706214Z",
     "iopub.status.idle": "2025-03-02T18:49:53.099063Z",
     "shell.execute_reply": "2025-03-02T18:49:53.098039Z",
     "shell.execute_reply.started": "2025-03-02T18:49:52.706531Z"
    },
    "papermill": {
     "duration": null,
     "end_time": null,
     "exception": null,
     "start_time": null,
     "status": "pending"
    },
    "tags": []
   },
   "outputs": [],
   "source": [
    "\n",
    "import numpy as np\n",
    "import matplotlib.pyplot as plt\n",
    "import tensorflow as tf\n",
    "from tensorflow.keras.utils import to_categorical\n",
    "from sklearn.model_selection import train_test_split\n",
    "import numpy as np\n",
    "import struct\n",
    "\n",
    "# Load Dataset\n",
    "image_file = \"/kaggle/input/ieeecs/dataset_aiml_task/images-idx3-ubyte\"\n",
    "label_file = \"/kaggle/input/ieeecs/dataset_aiml_task/labels-idx1-ubyte\"\n",
    "\n",
    "\n",
    "\n",
    "\n",
    "def load_idx_images(filename):\n",
    "    with open(filename, 'rb') as f:\n",
    "        _, num, rows, cols = struct.unpack(\">IIII\", f.read(16))\n",
    "        images = np.frombuffer(f.read(), dtype=np.uint8).reshape(num, rows * cols)\n",
    "    return images\n",
    "\n",
    "def load_idx_labels(filename):\n",
    "    with open(filename, 'rb') as f:\n",
    "        _, num = struct.unpack(\">II\", f.read(8))\n",
    "        labels = np.frombuffer(f.read(), dtype=np.uint8)\n",
    "    return labels\n",
    "\n",
    "X = load_idx_images(image_file)\n",
    "y = load_idx_labels(label_file)\n",
    "\n",
    "# Normalize images (0-1 range)\n",
    "X = X.astype('float64') / 255.0\n",
    "\n",
    "# Reshape for CNN (assume grayscale images)\n",
    "\n",
    "X = X.reshape(X.shape[0], 28, 28, 1)  \n",
    "\n",
    "# One-hot encode labels \n",
    "num_classes = len(np.unique(y))\n",
    "y = to_categorical(y, num_classes)\n",
    "\n",
    "# Train-Validation-Test Split (80-10-10)\n",
    "X_train, X_temp, y_train, y_temp = train_test_split(X, y, test_size=0.2, random_state=21)\n",
    "X_val, X_test, y_val, y_test = train_test_split(X_temp, y_temp, test_size=0.5, random_state=21)\n",
    "\n",
    "print(f\"Training set: {X_train.shape}, Labels: {y_train.shape}\")\n",
    "print(f\"Validation set: {X_val.shape}, Labels: {y_val.shape}\")\n",
    "print(f\"Testing set: {X_test.shape}, Labels: {y_test.shape}\")\n"
   ]
  },
  {
   "cell_type": "code",
   "execution_count": null,
   "id": "f5cf23a5",
   "metadata": {
    "execution": {
     "iopub.execute_input": "2025-03-02T17:52:14.849776Z",
     "iopub.status.busy": "2025-03-02T17:52:14.849475Z",
     "iopub.status.idle": "2025-03-02T17:52:14.906157Z",
     "shell.execute_reply": "2025-03-02T17:52:14.905452Z",
     "shell.execute_reply.started": "2025-03-02T17:52:14.849752Z"
    },
    "papermill": {
     "duration": null,
     "end_time": null,
     "exception": null,
     "start_time": null,
     "status": "pending"
    },
    "tags": []
   },
   "outputs": [],
   "source": [
    "from tensorflow.keras.models import Sequential\n",
    "from tensorflow.keras.layers import Conv2D, MaxPooling2D, Flatten, Dense, Dropout\n",
    "\n",
    "# Build CNN Model\n",
    "model = Sequential([\n",
    "    Conv2D(32, (3,3), activation='relu', input_shape=(28, 28, 1)),\n",
    "    MaxPooling2D(pool_size=(2,2)),\n",
    "    Conv2D(64, (3,3), activation='relu'),\n",
    "    MaxPooling2D(pool_size=(2,2)),\n",
    "    Flatten(),\n",
    "    Dense(128, activation='relu'),\n",
    "    Dropout(0.5),  # Prevent Overfitting\n",
    "    Dense(num_classes, activation='softmax')\n",
    "])\n",
    "\n",
    "# Compile Model\n",
    "model.compile(optimizer='adam', loss='categorical_crossentropy', metrics=['accuracy'])\n",
    "model.summary()\n"
   ]
  },
  {
   "cell_type": "markdown",
   "id": "7d56a579",
   "metadata": {
    "papermill": {
     "duration": null,
     "end_time": null,
     "exception": null,
     "start_time": null,
     "status": "pending"
    },
    "tags": []
   },
   "source": [
    "## using Maxpooling layers for reducing the spatial dimensions of feature maps. using flatten to change to 1d, and dense layers for prevention of overfitting"
   ]
  },
  {
   "cell_type": "code",
   "execution_count": null,
   "id": "039a2a37",
   "metadata": {
    "execution": {
     "iopub.execute_input": "2025-03-02T17:52:22.794064Z",
     "iopub.status.busy": "2025-03-02T17:52:22.793717Z",
     "iopub.status.idle": "2025-03-02T17:53:12.750120Z",
     "shell.execute_reply": "2025-03-02T17:53:12.749399Z",
     "shell.execute_reply.started": "2025-03-02T17:52:22.794027Z"
    },
    "papermill": {
     "duration": null,
     "end_time": null,
     "exception": null,
     "start_time": null,
     "status": "pending"
    },
    "tags": []
   },
   "outputs": [],
   "source": [
    "history = model.fit(\n",
    "    X_train, y_train,\n",
    "    validation_data=(X_val, y_val),\n",
    "    epochs=15,\n",
    "    batch_size=32,  \n",
    ")"
   ]
  },
  {
   "cell_type": "code",
   "execution_count": null,
   "id": "a3a7c38b",
   "metadata": {
    "execution": {
     "iopub.execute_input": "2025-03-02T17:53:12.751486Z",
     "iopub.status.busy": "2025-03-02T17:53:12.751217Z",
     "iopub.status.idle": "2025-03-02T17:53:13.787957Z",
     "shell.execute_reply": "2025-03-02T17:53:13.787111Z",
     "shell.execute_reply.started": "2025-03-02T17:53:12.751466Z"
    },
    "papermill": {
     "duration": null,
     "end_time": null,
     "exception": null,
     "start_time": null,
     "status": "pending"
    },
    "tags": []
   },
   "outputs": [],
   "source": [
    "from sklearn.metrics import classification_report, confusion_matrix\n",
    "import seaborn as sns\n",
    "\n",
    "# Evaluate on Test Set\n",
    "y_pred = np.argmax(model.predict(X_test), axis=1)\n",
    "y_true = np.argmax(y_test, axis=1)\n",
    "\n",
    "print(classification_report(y_true, y_pred))\n",
    "\n",
    "# Confusion Matrix\n",
    "cm = confusion_matrix(y_true, y_pred)\n",
    "plt.figure(figsize=(8,6))\n",
    "sns.heatmap(cm, annot=True, fmt=\"d\", cmap=\"Blues\")\n",
    "plt.xlabel(\"Predicted Label\")\n",
    "plt.ylabel(\"True Label\")\n",
    "plt.title(\"Confusion Matrix\")\n",
    "plt.show()\n"
   ]
  },
  {
   "cell_type": "code",
   "execution_count": null,
   "id": "34c511c9",
   "metadata": {
    "execution": {
     "iopub.execute_input": "2025-03-02T17:53:13.789631Z",
     "iopub.status.busy": "2025-03-02T17:53:13.789343Z",
     "iopub.status.idle": "2025-03-02T17:53:14.138769Z",
     "shell.execute_reply": "2025-03-02T17:53:14.137910Z",
     "shell.execute_reply.started": "2025-03-02T17:53:13.789608Z"
    },
    "papermill": {
     "duration": null,
     "end_time": null,
     "exception": null,
     "start_time": null,
     "status": "pending"
    },
    "tags": []
   },
   "outputs": [],
   "source": [
    "plt.figure(figsize=(12,5))\n",
    "\n",
    "# Loss Curve\n",
    "plt.subplot(1,2,1)\n",
    "plt.plot(history.history['loss'], label='Train Loss')\n",
    "plt.plot(history.history['val_loss'], label='Val Loss')\n",
    "plt.xlabel(\"Epochs\")\n",
    "plt.ylabel(\"Loss\")\n",
    "plt.title(\"Training & Validation Loss\")\n",
    "plt.legend()\n",
    "\n",
    "# Accuracy Curve\n",
    "plt.subplot(1,2,2)\n",
    "plt.plot(history.history['accuracy'], label=\"Train Acc\")\n",
    "plt.plot(history.history['val_accuracy'], label=\"Val Acc\")\n",
    "plt.xlabel(\"Epochs\")\n",
    "plt.ylabel(\"Accuracy\")\n",
    "plt.title(\"Training & Validation Accuracy\")\n",
    "plt.legend()\n",
    "\n",
    "plt.show()\n"
   ]
  },
  {
   "cell_type": "markdown",
   "id": "b84e03ab",
   "metadata": {
    "papermill": {
     "duration": null,
     "end_time": null,
     "exception": null,
     "start_time": null,
     "status": "pending"
    },
    "tags": []
   },
   "source": [
    "### okay so according to learning curves, the model is overfitting on the model (high distance between train and val loss (and accuracy) which is not ideal and shows that model is taking noise into consideration too. Also there are many highs and lows in the val curve and its slightly increasing showing overfitting too.\n",
    "\n",
    "#### using any different approach to prevent overfitting"
   ]
  },
  {
   "cell_type": "code",
   "execution_count": null,
   "id": "f81b922d",
   "metadata": {
    "execution": {
     "iopub.execute_input": "2025-03-02T17:57:51.960632Z",
     "iopub.status.busy": "2025-03-02T17:57:51.960297Z",
     "iopub.status.idle": "2025-03-02T17:57:52.019175Z",
     "shell.execute_reply": "2025-03-02T17:57:52.018441Z",
     "shell.execute_reply.started": "2025-03-02T17:57:51.960609Z"
    },
    "papermill": {
     "duration": null,
     "end_time": null,
     "exception": null,
     "start_time": null,
     "status": "pending"
    },
    "tags": []
   },
   "outputs": [],
   "source": [
    "# Build CNN Model\n",
    "model = Sequential([\n",
    "    Conv2D(32, (3,3), activation='relu', input_shape=(28, 28, 1)),\n",
    "    MaxPooling2D(pool_size=(2,2)),\n",
    "   \n",
    "    Conv2D(64, (3,3), activation='relu'),\n",
    "    MaxPooling2D(pool_size=(2,2)),\n",
    "    Dropout(0.5),\n",
    "    Flatten(),\n",
    "    Dense(128, activation='relu'),\n",
    "    Dropout(0.5),  # Prevent Overfitting\n",
    "    Dense(num_classes, activation='softmax')\n",
    "])\n",
    "\n",
    "# Compile Model\n",
    "model.compile(optimizer='adam', loss='categorical_crossentropy', metrics=['accuracy'])\n",
    "model.summary()"
   ]
  },
  {
   "cell_type": "code",
   "execution_count": null,
   "id": "c2b150ff",
   "metadata": {
    "papermill": {
     "duration": null,
     "end_time": null,
     "exception": null,
     "start_time": null,
     "status": "pending"
    },
    "tags": []
   },
   "outputs": [],
   "source": []
  },
  {
   "cell_type": "markdown",
   "id": "9def37c1",
   "metadata": {
    "papermill": {
     "duration": null,
     "end_time": null,
     "exception": null,
     "start_time": null,
     "status": "pending"
    },
    "tags": []
   },
   "source": [
    "# Added dropout layer to prevent further overfitting"
   ]
  },
  {
   "cell_type": "code",
   "execution_count": null,
   "id": "34c1da68",
   "metadata": {
    "execution": {
     "iopub.execute_input": "2025-03-02T17:57:55.988893Z",
     "iopub.status.busy": "2025-03-02T17:57:55.988578Z",
     "iopub.status.idle": "2025-03-02T17:58:46.650726Z",
     "shell.execute_reply": "2025-03-02T17:58:46.650039Z",
     "shell.execute_reply.started": "2025-03-02T17:57:55.988867Z"
    },
    "papermill": {
     "duration": null,
     "end_time": null,
     "exception": null,
     "start_time": null,
     "status": "pending"
    },
    "tags": []
   },
   "outputs": [],
   "source": [
    "\n",
    "\n",
    "history = model.fit(\n",
    "    X_train, y_train,\n",
    "    validation_data=(X_val, y_val),\n",
    "    epochs=15,\n",
    "    batch_size=32,\n",
    "   \n",
    ")\n"
   ]
  },
  {
   "cell_type": "code",
   "execution_count": null,
   "id": "1e3c980d",
   "metadata": {
    "execution": {
     "iopub.execute_input": "2025-03-02T17:58:52.595183Z",
     "iopub.status.busy": "2025-03-02T17:58:52.594845Z",
     "iopub.status.idle": "2025-03-02T17:58:54.089724Z",
     "shell.execute_reply": "2025-03-02T17:58:54.088880Z",
     "shell.execute_reply.started": "2025-03-02T17:58:52.595153Z"
    },
    "papermill": {
     "duration": null,
     "end_time": null,
     "exception": null,
     "start_time": null,
     "status": "pending"
    },
    "tags": []
   },
   "outputs": [],
   "source": [
    "from sklearn.metrics import classification_report, confusion_matrix\n",
    "import seaborn as sns\n",
    "\n",
    "# Evaluate on Test Set\n",
    "y_pred = np.argmax(model.predict(X_test), axis=1)\n",
    "y_true = np.argmax(y_test, axis=1)\n",
    "\n",
    "print(classification_report(y_true, y_pred))\n",
    "\n",
    "# Confusion Matrix\n",
    "cm = confusion_matrix(y_true, y_pred)\n",
    "plt.figure(figsize=(8,6))\n",
    "sns.heatmap(cm, annot=True, fmt=\"d\", cmap=\"Blues\")\n",
    "plt.xlabel(\"Predicted Label\")\n",
    "plt.ylabel(\"True Label\")\n",
    "plt.title(\"Confusion Matrix\")\n",
    "plt.show()\n",
    "plt.figure(figsize=(12,5))\n",
    "\n",
    "# Loss Curve\n",
    "plt.subplot(1,2,1)\n",
    "plt.plot(history.history['loss'], label='Train Loss')\n",
    "plt.plot(history.history['val_loss'], label='Val Loss')\n",
    "plt.xlabel(\"Epochs\")\n",
    "plt.ylabel(\"Loss\")\n",
    "plt.title(\"Training & Validation Loss\")\n",
    "plt.legend()\n",
    "\n",
    "# Accuracy Curve\n",
    "plt.subplot(1,2,2)\n",
    "plt.plot(history.history['accuracy'], label=\"Train Acc\")\n",
    "plt.plot(history.history['val_accuracy'], label=\"Val Acc\")\n",
    "plt.xlabel(\"Epochs\")\n",
    "plt.ylabel(\"Accuracy\")\n",
    "plt.title(\"Training & Validation Accuracy\")\n",
    "plt.legend()\n",
    "\n",
    "plt.show()\n"
   ]
  },
  {
   "cell_type": "markdown",
   "id": "165f0269",
   "metadata": {
    "papermill": {
     "duration": null,
     "end_time": null,
     "exception": null,
     "start_time": null,
     "status": "pending"
    },
    "tags": []
   },
   "source": [
    "## After adding dropout layers the accuracy stays the same but model has obtained a sense of generalization as there is much less distance now between the learning curves which shows that our trick worked. \n",
    "\n",
    "## now predicting with model\n"
   ]
  },
  {
   "cell_type": "code",
   "execution_count": null,
   "id": "11ac3ab3",
   "metadata": {
    "execution": {
     "iopub.execute_input": "2025-03-02T18:58:48.458287Z",
     "iopub.status.busy": "2025-03-02T18:58:48.457967Z",
     "iopub.status.idle": "2025-03-02T18:58:48.940648Z",
     "shell.execute_reply": "2025-03-02T18:58:48.939861Z",
     "shell.execute_reply.started": "2025-03-02T18:58:48.458263Z"
    },
    "papermill": {
     "duration": null,
     "end_time": null,
     "exception": null,
     "start_time": null,
     "status": "pending"
    },
    "tags": []
   },
   "outputs": [],
   "source": [
    "# Predict on a few test samples\n",
    "num_samples = 10\n",
    "predictions = model.predict(X_test[:num_samples])\n",
    "\n",
    "# Convert one-hot encoded predictions to class labels\n",
    "predicted_labels = np.argmax(predictions, axis=1)\n",
    "true_labels = np.argmax(y_test[:num_samples], axis=1)\n",
    "# Plot Predictions\n",
    "fig, axes = plt.subplots(1, num_samples, figsize=(15, 5))\n",
    "for i, ax in enumerate(axes):\n",
    "    ax.imshow(X_test[i].reshape(28, 28), cmap='gray')\n",
    "    ax.set_title(f\"Pred: {predicted_labels[i]}\\nTrue: {true_labels[i]}\")\n",
    "    ax.axis(\"off\")\n",
    "plt.show()\n"
   ]
  },
  {
   "cell_type": "markdown",
   "id": "811126a0",
   "metadata": {
    "papermill": {
     "duration": null,
     "end_time": null,
     "exception": null,
     "start_time": null,
     "status": "pending"
    },
    "tags": []
   },
   "source": [
    "# Hence in conclusion the model works pretty fine mostly predicting the labels correctly. it is confused in 3,4,6 classes but i think thats fine 😅 i guess. \n",
    "\n",
    "\n",
    "# Thanks for reviewing my submission hope you like it!!!!\n",
    "# Made with Love by Maneet Gupta 24BBS0101"
   ]
  }
 ],
 "metadata": {
  "kaggle": {
   "accelerator": "gpu",
   "dataSources": [
    {
     "datasetId": 6773469,
     "sourceId": 10898988,
     "sourceType": "datasetVersion"
    }
   ],
   "dockerImageVersionId": 30919,
   "isGpuEnabled": true,
   "isInternetEnabled": true,
   "language": "python",
   "sourceType": "notebook"
  },
  "kernelspec": {
   "display_name": "Python 3",
   "language": "python",
   "name": "python3"
  },
  "language_info": {
   "codemirror_mode": {
    "name": "ipython",
    "version": 3
   },
   "file_extension": ".py",
   "mimetype": "text/x-python",
   "name": "python",
   "nbconvert_exporter": "python",
   "pygments_lexer": "ipython3",
   "version": "3.10.12"
  },
  "papermill": {
   "default_parameters": {},
   "duration": 113.683705,
   "end_time": "2025-03-02T19:14:31.192950",
   "environment_variables": {},
   "exception": true,
   "input_path": "__notebook__.ipynb",
   "output_path": "__notebook__.ipynb",
   "parameters": {},
   "start_time": "2025-03-02T19:12:37.509245",
   "version": "2.6.0"
  }
 },
 "nbformat": 4,
 "nbformat_minor": 5
}
